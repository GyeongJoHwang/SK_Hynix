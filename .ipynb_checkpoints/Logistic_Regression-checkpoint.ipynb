{
 "cells": [
  {
   "cell_type": "markdown",
   "metadata": {},
   "source": [
    "# <div style=\"text-align: center\"> Convex optimization for machine learning: Part I</div>\n",
    "#### <div style=\"text-align: right\"> Prof. Changho Suh, TA Gyeongjo Hwang, Doyeon Kim</div>"
   ]
  },
  {
   "cell_type": "markdown",
   "metadata": {},
   "source": [
    "# 로지스틱 회귀(Logistic Regression) 구현 및 실제 데이터 적용\n",
    "\n",
    "**Instructions**\n",
    "- 루프 statement를 사용하지 않고(for/while) 로지스틱 회귀모델 구현\n",
    "\n",
    "**You will learn to**\n",
    "- 로지스틱 회귀 및 딥러닝의 일반적인 구조에 대해 구현해 볼 것\n",
    " - 파라미터 초기화\n",
    " - 그래디언트 계산\n",
    " - 최적화 알고리즘 (Gradient Descent)\n",
    "- 로지스틱 회귀를 Synthetic Data 및 실제 데이터에 적용"
   ]
  },
  {
   "cell_type": "markdown",
   "metadata": {},
   "source": [
    "## 3 - 학습 알고리즘의 일반적인 구조\n",
    "\n",
    "\n",
    "<img src=\"figures/LogReg_kiank.png\" style=\"width:650px;height:500px;\" >\n",
    "\n",
    "\n",
    "**알고리즘 수식**:\n",
    "\n",
    "학습데이터 $x^{(i)}$에 대해:\n",
    "$$z^{(i)} = w^T x^{(i)} + b$$\n",
    "$$\\hat{y}^{(i)} = a^{(i)} = sigmoid(z^{(i)})$$ \n",
    "$$ \\mathcal{L}(\\hat{y}^{(i)}, y^{(i)}) =  - y^{(i)}  \\log(\\hat{y}^{(i)}) - (1-y^{(i)} )  \\log(1-\\hat{y}^{(i)})$$\n",
    "\n",
    "손실함수는 모든 학습데이터에 대해 계산한 후에 더해주는 방식으로 구한다:\n",
    "$$ J = \\frac{1}{m} \\sum_{i=1}^m \\mathcal{L}(\\hat{y}^{(i)}, y^{(i)})$$\n",
    "\n",
    "**Key steps**:\n",
    "아래에서 실습으로 구현해볼 것: \n",
    "    - 모델의 파라미터 초기화\n",
    "    - 모델 파라미터 학습 알고리즘\n",
    "    - 학습 된 모델로 테스트 데이터로 성능측정 해보기\n",
    "    - 결과분석 및 고찰"
   ]
  },
  {
   "cell_type": "code",
   "execution_count": 3,
   "metadata": {},
   "outputs": [],
   "source": [
    "import numpy as np\n",
    "import matplotlib.pyplot as plt\n",
    "import h5py\n",
    "import scipy\n",
    "from PIL import Image\n",
    "from scipy import ndimage\n",
    "from RL_utils import load_dataset, generate_normal, plot, draw_boundary, Normalize\n",
    "plt.rcParams['figure.figsize'] = (12, 8)"
   ]
  },
  {
   "cell_type": "markdown",
   "metadata": {},
   "source": [
    "### 시그모이드 함수\n",
    "\n",
    "**실습:**\n",
    "\n",
    "시그모이드 함수를 구현하시오\n",
    "\n",
    "__sigmoid__: $f_w(x) = \\dfrac{1}{1+e^{-w^T x}}$"
   ]
  },
  {
   "cell_type": "code",
   "execution_count": 4,
   "metadata": {},
   "outputs": [],
   "source": [
    "def sigmoid(z):\n",
    "    '''\n",
    "    Compute the sigmoid of z\n",
    "    \n",
    "    Arguments: A scalar or numpy array of any size\n",
    "    '''\n",
    "    return 1 / (1 + np.exp(-z))"
   ]
  },
  {
   "cell_type": "code",
   "execution_count": 5,
   "metadata": {},
   "outputs": [
    {
     "name": "stdout",
     "output_type": "stream",
     "text": [
      "sigmoid(0) = 0.5\n",
      "sigmoid(9.2) = 0.9998989708060922\n"
     ]
    }
   ],
   "source": [
    "print (\"sigmoid(0) = \" + str(sigmoid(0)))\n",
    "print (\"sigmoid(9.2) = \" + str(sigmoid(9.2)))"
   ]
  },
  {
   "cell_type": "markdown",
   "metadata": {},
   "source": [
    "### 파라미터 초기화\n",
    "**실습**: 파라미터의 각 요소를 0으로 초기화하시오"
   ]
  },
  {
   "cell_type": "code",
   "execution_count": 6,
   "metadata": {},
   "outputs": [],
   "source": [
    "# GRADED FUNCTION: initialize_with_zeros\n",
    "\n",
    "def initialize_with_zeros(dim):\n",
    "    \"\"\"\n",
    "    This function creates a vector of zeros of shape (dim, 1) for w and initializes b to 0.\n",
    "\n",
    "    Returns:\n",
    "    w -- initialized vector of shape (dim, 1)\n",
    "    b -- initialized scalar (corresponds to the bias)\n",
    "    \"\"\"\n",
    "    \n",
    "    ### START CODE HERE ### (≈ 1 line of code)\n",
    "    w = np.zeros(shape=(dim, 1))\n",
    "    b = 0\n",
    "    ### END CODE HERE ###\n",
    "\n",
    "    assert(w.shape == (dim, 1))\n",
    "    assert(isinstance(b, float) or isinstance(b, int))\n",
    "    \n",
    "    return w, b"
   ]
  },
  {
   "cell_type": "code",
   "execution_count": 7,
   "metadata": {},
   "outputs": [
    {
     "name": "stdout",
     "output_type": "stream",
     "text": [
      "w = [[0.]\n",
      " [0.]]\n",
      "b = 0\n"
     ]
    }
   ],
   "source": [
    "dim = 2\n",
    "w, b = initialize_with_zeros(dim)\n",
    "print (\"w = \" + str(w))\n",
    "print (\"b = \" + str(b))"
   ]
  },
  {
   "cell_type": "markdown",
   "metadata": {},
   "source": [
    "이미지 데이터가 인풋으로 들어가면 dim = n_px * n_px * n_channel 이 된다. (흑백이미지의 경우 n_channel : 1, 컬러이미지의 경우 n_channel : 1)"
   ]
  },
  {
   "cell_type": "markdown",
   "metadata": {},
   "source": [
    "### 4.3 - Forward and Backward propagation\n",
    "\n",
    "**실습:** \n",
    "\n",
    "$\\hat{y}^{(i)}$과 $J(w)$을 계산하는 `forward()`함수와 그레디언트를 계산하는 `backward()`함수를 구현하시오\n",
    "\n",
    "**힌트:**\n",
    "\n",
    "Forward:\n",
    "$$\\hat{Y} = A = \\sigma(w^T X + b) = (\\hat{y}^{(1)}, \\hat{y}^{(2)}, ..., \\hat{y}^{(m-1)}, \\hat{y}^{(m)})$$\n",
    "$$J = -\\frac{1}{m}\\sum_{i=1}^{m}y^{(i)}\\log(\\hat{y}^{(i)})+(1-y^{(i)})\\log(1-\\hat{y}^{(i)})$$\n",
    "\n",
    "\n",
    "Backward:\n",
    "$$ \\frac{\\partial J}{\\partial w} = \\frac{1}{m} \\sum_{i=1}^m x^{(i)}(\\hat{y}^{(i)}-y^{(i)}) = \\frac{1}{m}X(\\hat{Y}-Y)^T$$\n",
    "$$ \\frac{\\partial J}{\\partial b} = \\frac{1}{m} \\sum_{i=1}^m (\\hat{y}^{(i)}-y^{(i)})$$"
   ]
  },
  {
   "cell_type": "code",
   "execution_count": 8,
   "metadata": {},
   "outputs": [],
   "source": [
    "# GRADED FUNCTION: propagate\n",
    "\n",
    "def forward(w, b, X, Y):\n",
    "    \"\"\"\n",
    "    Implement the cost function and its gradient for the propagation explained above\n",
    "\n",
    "    Return:\n",
    "    yhat -- prediction of corresponding input\n",
    "    \n",
    "    Tips:\n",
    "    - Write your code step by step for the propagation\n",
    "    \"\"\"\n",
    "    \n",
    "    m = X.shape[1]\n",
    "    \n",
    "    # FORWARD PROPAGATION\n",
    "    ### START CODE HERE ### (≈ 2 lines of code)\n",
    "    Yhat = sigmoid(np.dot(w.T, X) + b)\n",
    "    cost = (- 1 / m) * np.sum(Y * np.log(Yhat) + (1 - Y) * (np.log(1 - Yhat)))\n",
    "    ### END CODE HERE ###\n",
    "    \n",
    "    return Yhat, cost"
   ]
  },
  {
   "cell_type": "code",
   "execution_count": 9,
   "metadata": {},
   "outputs": [],
   "source": [
    "def backward(w, b, X, Y, Yhat):\n",
    "    \n",
    "    '''\n",
    "    Return:\n",
    "    grads -- gradient of parameters\n",
    "    '''\n",
    "    \n",
    "    m = X.shape[1]\n",
    "    \n",
    "    # BACKWARD PROPAGATION\n",
    "    ### START CODE HERE ### (≈ 2 lines of code)\n",
    "    dw = (1 / m) * np.dot(X, (Yhat - Y).T)\n",
    "    db = (1 / m) * np.sum(Yhat - Y)\n",
    "    ### END CODE HERE ###\n",
    "\n",
    "    assert(dw.shape == w.shape)\n",
    "    assert(db.dtype == float)\n",
    "    \n",
    "    grads = {\"dw\": dw,\n",
    "             \"db\": db}\n",
    "    \n",
    "    return grads"
   ]
  },
  {
   "cell_type": "code",
   "execution_count": 10,
   "metadata": {},
   "outputs": [
    {
     "name": "stdout",
     "output_type": "stream",
     "text": [
      "dw = [[0.99993216]\n",
      " [1.99980262]]\n",
      "db = 0.49993523062470574\n"
     ]
    }
   ],
   "source": [
    "w, b, X, Y = np.array([[1], [2]]), 2, np.array([[1,2], [3,4]]), np.array([[1, 0]])\n",
    "Yhat, cost = forward(w, b, X, Y)\n",
    "grads = backward(w, b, X, Y, Yhat)\n",
    "print (\"dw = \" + str(grads[\"dw\"]))\n",
    "print (\"db = \" + str(grads[\"db\"]))"
   ]
  },
  {
   "cell_type": "markdown",
   "metadata": {},
   "source": [
    "**Expected Output**:\n",
    "\n",
    "<table style=\"width:35%\">\n",
    "    <tr>\n",
    "        <td>  dw :</td>\n",
    "        <td> [[ 0.99993216]\n",
    " [ 1.99980262]]</td>\n",
    "    </tr>\n",
    "    <tr>\n",
    "        <td>  db  :</td>\n",
    "        <td> 0.499935230625 </td>\n",
    "    </tr>\n",
    "\n",
    "\n",
    "</table>"
   ]
  },
  {
   "cell_type": "markdown",
   "metadata": {},
   "source": [
    "### 모델 최적화\n",
    "\n",
    "**구현:**\n",
    "\n",
    "위에서 구현한 코드를 이용하여 모델을 학습하는 `fit()` 함수를 구현하시오\n",
    "\n",
    "**힌트:**\n",
    "\n",
    "$ \\theta = \\theta - \\alpha \\text{ } d\\theta$  \n",
    "($\\theta$ : parameter, $\\alpha$ : learning rate)"
   ]
  },
  {
   "cell_type": "code",
   "execution_count": 11,
   "metadata": {},
   "outputs": [],
   "source": [
    "def fit(w, b, X, Y, num_iterations, learning_rate, print_cost=False):\n",
    "    \"\"\"\n",
    "    This function optimizes w and b by running a gradient descent algorithm\n",
    "    \n",
    "    Returns:\n",
    "    params -- dictionary containing the weights w and bias b\n",
    "    grads -- dictionary containing the gradients of the weights and bias with respect to the cost function\n",
    "    costs -- list of all the costs computed during the optimization, this will be used to plot the learning curve.\n",
    "    \n",
    "    Tips:\n",
    "    You basically need to write down two steps and iterate through them:\n",
    "        1) Calculate the cost and the gradient for the current parameters. Use forward(), backward().\n",
    "        2) Update the parameters using gradient descent rule for w and b.\n",
    "    \"\"\"\n",
    "    \n",
    "    costs = []\n",
    "    \n",
    "    for i in range(num_iterations):\n",
    "        \n",
    "        # Cost and gradient calculation (≈ 1-4 lines of code)\n",
    "        ### START CODE HERE ### \n",
    "        Yhat, cost = forward(w, b, X, Y)\n",
    "        grads = backward(w, b, X, Y, Yhat)\n",
    "        ### END CODE HERE ###\n",
    "        \n",
    "        # Retrieve derivatives from grads\n",
    "        dw = grads[\"dw\"]\n",
    "        db = grads[\"db\"]\n",
    "        \n",
    "        # update rule (≈ 2 lines of code)\n",
    "        ### START CODE HERE ###\n",
    "        w = w - learning_rate * dw  # need to broadcast\n",
    "        b = b - learning_rate * db\n",
    "        ### END CODE HERE ###\n",
    "        \n",
    "        # Record the costs\n",
    "        if i % 100 == 0:\n",
    "            costs.append(cost)\n",
    "        \n",
    "        # Print the cost every 100 training examples\n",
    "        if print_cost and i % 100 == 0:\n",
    "            print (\"Cost after iteration %i: %f\" % (i, cost))\n",
    "    \n",
    "    params = {\"w\": w,\n",
    "              \"b\": b}\n",
    "    \n",
    "    grads = {\"dw\": dw,\n",
    "             \"db\": db}\n",
    "    \n",
    "    return params, grads, costs"
   ]
  },
  {
   "cell_type": "code",
   "execution_count": 12,
   "metadata": {},
   "outputs": [
    {
     "name": "stdout",
     "output_type": "stream",
     "text": [
      "w = [[0.1124579 ]\n",
      " [0.23106775]]\n",
      "b = 1.5593049248448891\n",
      "dw = [[0.90158428]\n",
      " [1.76250842]]\n",
      "db = 0.4304620716786828\n"
     ]
    }
   ],
   "source": [
    "params, grads, costs = fit(w, b, X, Y, num_iterations= 100, learning_rate = 0.009, print_cost = False)\n",
    "\n",
    "print (\"w = \" + str(params[\"w\"]))\n",
    "print (\"b = \" + str(params[\"b\"]))\n",
    "print (\"dw = \" + str(grads[\"dw\"]))\n",
    "print (\"db = \" + str(grads[\"db\"]))"
   ]
  },
  {
   "cell_type": "markdown",
   "metadata": {},
   "source": [
    "**Expected Output**: \n",
    "\n",
    "<table style=\"width:40%\">\n",
    "    <tr>\n",
    "       <td> w : </td>\n",
    "       <td>[[ 0.1124579 ]\n",
    " [ 0.23106775]] </td>\n",
    "    </tr>\n",
    "    <tr>\n",
    "       <td> b : </td>\n",
    "       <td> 1.55930492484 </td>\n",
    "    </tr>\n",
    "    <tr>\n",
    "       <td> dw : </td>\n",
    "       <td> [[ 0.90158428]\n",
    " [ 1.76250842]] </td>\n",
    "    </tr>\n",
    "    <tr>\n",
    "       <td> db : </td>\n",
    "       <td> 0.430462071679 </td>\n",
    "    </tr>\n",
    "\n",
    "</table>"
   ]
  },
  {
   "cell_type": "markdown",
   "metadata": {},
   "source": [
    "**실습 :** \n",
    "\n",
    "`fit()` 함수에서 학습된 파라미터 w, b를 사용하여 인풋 데이터 $x^{(i)}$가 어떤 클래스에 속하는지 예측하는 `predict()` 함수를 구현하시오\n",
    "\n",
    "TODO:\n",
    "1. $\\hat{Y} = A = \\sigma(w^T X + b)$ 계산\n",
    "\n",
    "2. 1.에서 계산한 $\\hat{Y}$ 값들을 기반으로 하여 어떤 클래스에 속하는지 예측 -->  $\\hat{y}^{(i)}$가 0.5 이상이면 1, 이하이면 0으로 예측"
   ]
  },
  {
   "cell_type": "code",
   "execution_count": 13,
   "metadata": {},
   "outputs": [],
   "source": [
    "# GRADED FUNCTION: predict\n",
    "\n",
    "def predict(w, b, X):\n",
    "    '''\n",
    "    Predict whether the label is 0 or 1 using learned logistic regression parameters (w, b)\n",
    "    \n",
    "    Arguments:\n",
    "    w -- weights, a numpy array of size (num_px * num_px * 3, 1)\n",
    "    b -- bias, a scalar\n",
    "    X -- data of size (num_px * num_px * 3, number of examples)\n",
    "    \n",
    "    Returns:\n",
    "    Y_prediction -- a numpy array (vector) containing all predictions (0/1) for the examples in X\n",
    "    '''\n",
    "    \n",
    "    m = X.shape[1]\n",
    "    assert(w.shape[0] == X.shape[0])\n",
    "    \n",
    "    ### START CODE HERE ### (≈ 4 line of code)\n",
    "    Yhat = sigmoid(np.dot(w.T, X) + b)\n",
    "    Yhat[Yhat > 0.5] = 1\n",
    "    Yhat[Yhat <= 0.5] = 0\n",
    "    Y_prediction = Yhat\n",
    "    ### END CODE HERE ###\n",
    "    \n",
    "    assert(Y_prediction.shape == (1, m))\n",
    "    \n",
    "    return Y_prediction"
   ]
  },
  {
   "cell_type": "code",
   "execution_count": 14,
   "metadata": {},
   "outputs": [
    {
     "name": "stdout",
     "output_type": "stream",
     "text": [
      "predictions = [[1. 1.]]\n"
     ]
    }
   ],
   "source": [
    "print(\"predictions = \" + str(predict(w, b, X)))"
   ]
  },
  {
   "cell_type": "markdown",
   "metadata": {},
   "source": [
    "**Expected Output**: \n",
    "\n",
    "<table style=\"width:30%\">\n",
    "    <tr>\n",
    "         <td>\n",
    "             predictions :\n",
    "         </td>\n",
    "          <td>\n",
    "            [[ 1.  1.]]\n",
    "         </td>  \n",
    "   </tr>\n",
    "\n",
    "</table>"
   ]
  },
  {
   "cell_type": "markdown",
   "metadata": {},
   "source": [
    "## 위에서 구현한 함수들을 하나의 모델함수로 합치기\n",
    "\n",
    "**실습:**\n",
    "\n",
    "1. 파라미터 초기화\n",
    "2. fit() 함수로 모델 학습\n",
    "3. 학습된 파라미터들로 train, test 데이터에 대해 성능 측정 (accuracy)"
   ]
  },
  {
   "cell_type": "code",
   "execution_count": 15,
   "metadata": {},
   "outputs": [],
   "source": [
    "# GRADED FUNCTION: model\n",
    "\n",
    "def Logistic(X_train, Y_train, X_test, Y_test, num_iterations=2000, learning_rate=0.5, print_cost=False):\n",
    "    \"\"\"\n",
    "    Builds the logistic regression model by calling the function you've implemented previously\n",
    "    \n",
    "    Returns:\n",
    "    d -- dictionary containing information about the model.\n",
    "    \"\"\"\n",
    "    \n",
    "    ### START CODE HERE ###\n",
    "    # initialize parameters with zeros (≈ 1 line of code)\n",
    "    w, b = initialize_with_zeros(X_train.shape[0])\n",
    "\n",
    "    # Gradient descent (≈ 1 line of code)\n",
    "    parameters, grads, costs = fit(w, b, X_train, Y_train, num_iterations, learning_rate, print_cost)\n",
    "    \n",
    "    # Retrieve parameters w and b from dictionary \"parameters\"\n",
    "    w = parameters[\"w\"]\n",
    "    b = parameters[\"b\"]\n",
    "    \n",
    "    # Predict test/train set examples (≈ 2 lines of code)\n",
    "    Y_prediction_test = predict(w, b, X_test)\n",
    "    Y_prediction_train = predict(w, b, X_train)\n",
    "\n",
    "    ### END CODE HERE ###\n",
    "\n",
    "    # Print train/test Errors\n",
    "    print(\"train accuracy: {} %\".format(100 - np.mean(np.abs(Y_prediction_train - Y_train)) * 100))\n",
    "    print(\"test accuracy: {} %\".format(100 - np.mean(np.abs(Y_prediction_test - Y_test)) * 100))\n",
    "\n",
    "    \n",
    "    d = {\"costs\": costs,\n",
    "         \"Y_prediction_test\": Y_prediction_test, \n",
    "         \"Y_prediction_train\" : Y_prediction_train, \n",
    "         \"w\" : w, \n",
    "         \"b\" : b,\n",
    "         \"learning_rate\" : learning_rate,\n",
    "         \"num_iterations\": num_iterations}\n",
    "    \n",
    "    return d"
   ]
  },
  {
   "cell_type": "markdown",
   "metadata": {},
   "source": [
    "## 1- Synthetic data(Normal)에 적용\n",
    "\n",
    "**Least square 세팅에서와 다른점:**\n",
    " 1. label이 {-1, 1}가 아닌 {0, 1}이 되도록 세팅 -> Decision threshold : 0.5\n",
    " 2. Least square에서는 데이터셋에서 각각의 row vector를 데이터로 봤다면 Logistic regression에서는 각각의 column vector를 데이터로 본다."
   ]
  },
  {
   "cell_type": "code",
   "execution_count": 16,
   "metadata": {
    "scrolled": false
   },
   "outputs": [
    {
     "data": {
      "image/png": "[encoded data removed]",
      "text/plain": [
       "<Figure size 864x576 with 1 Axes>"
      ]
     },
     "metadata": {},
     "output_type": "display_data"
    }
   ],
   "source": [
    "# 데이터 생성\n",
    "(X_train, Y_train), (X_test, Y_test) = generate_normal(800, seed=2019)\n",
    "plot(X_train, Y_train)"
   ]
  },
  {
   "cell_type": "code",
   "execution_count": 17,
   "metadata": {},
   "outputs": [
    {
     "name": "stdout",
     "output_type": "stream",
     "text": [
      "Cost after iteration 0: 0.693147\n",
      "Cost after iteration 100: 2.877147\n",
      "Cost after iteration 200: 2.393334\n",
      "Cost after iteration 300: 7.516525\n",
      "Cost after iteration 400: 2.334392\n",
      "Cost after iteration 500: 1.543730\n",
      "Cost after iteration 600: 6.043982\n",
      "Cost after iteration 700: 1.091636\n",
      "Cost after iteration 800: 0.210493\n",
      "Cost after iteration 900: 0.305515\n",
      "Cost after iteration 1000: 1.972698\n",
      "Cost after iteration 1100: 2.473660\n",
      "Cost after iteration 1200: 2.071495\n",
      "Cost after iteration 1300: 1.760598\n",
      "Cost after iteration 1400: 1.460334\n",
      "Cost after iteration 1500: 1.195591\n",
      "Cost after iteration 1600: 0.946908\n",
      "Cost after iteration 1700: 0.852408\n",
      "Cost after iteration 1800: 0.760426\n",
      "Cost after iteration 1900: 0.668992\n",
      "Cost after iteration 2000: 0.577539\n",
      "Cost after iteration 2100: 0.489973\n",
      "Cost after iteration 2200: 0.418238\n",
      "Cost after iteration 2300: 0.370599\n",
      "Cost after iteration 2400: 0.341172\n",
      "Cost after iteration 2500: 0.322045\n",
      "Cost after iteration 2600: 0.308727\n",
      "Cost after iteration 2700: 0.298929\n",
      "Cost after iteration 2800: 0.291424\n",
      "Cost after iteration 2900: 0.285498\n",
      "Cost after iteration 3000: 0.280712\n",
      "Cost after iteration 3100: 0.276776\n",
      "Cost after iteration 3200: 0.273494\n",
      "Cost after iteration 3300: 0.270726\n",
      "Cost after iteration 3400: 0.268370\n",
      "Cost after iteration 3500: 0.266348\n",
      "Cost after iteration 3600: 0.264602\n",
      "Cost after iteration 3700: 0.263086\n",
      "Cost after iteration 3800: 0.261764\n",
      "Cost after iteration 3900: 0.260605\n",
      "Cost after iteration 4000: 0.259587\n",
      "Cost after iteration 4100: 0.258690\n",
      "Cost after iteration 4200: 0.257896\n",
      "Cost after iteration 4300: 0.257193\n",
      "Cost after iteration 4400: 0.256570\n",
      "Cost after iteration 4500: 0.256015\n",
      "Cost after iteration 4600: 0.255520\n",
      "Cost after iteration 4700: 0.255080\n",
      "Cost after iteration 4800: 0.254686\n",
      "Cost after iteration 4900: 0.254334\n",
      "train accuracy: 90.9375 %\n",
      "test accuracy: 83.75 %\n"
     ]
    }
   ],
   "source": [
    "# 학습\n",
    "d = Logistic(X_train, Y_train, X_test, Y_test, num_iterations=5000, learning_rate=0.1, print_cost=True)"
   ]
  },
  {
   "cell_type": "code",
   "execution_count": 18,
   "metadata": {
    "scrolled": false
   },
   "outputs": [
    {
     "data": {
      "image/png": "[encoded data removed]",
      "text/plain": [
       "<Figure size 864x576 with 1 Axes>"
      ]
     },
     "metadata": {},
     "output_type": "display_data"
    }
   ],
   "source": [
    "w = d['w']\n",
    "b = d['b']\n",
    "draw_boundary(w, b, X_test, Y_test, title='Test data', colormap=True)"
   ]
  },
  {
   "cell_type": "markdown",
   "metadata": {},
   "source": [
    "## Least Square와 비교"
   ]
  },
  {
   "cell_type": "code",
   "execution_count": 19,
   "metadata": {},
   "outputs": [
    {
     "name": "stdout",
     "output_type": "stream",
     "text": [
      "Train accuracy : 92.8125%\n",
      "Test accuracy : 76.25%\n"
     ]
    }
   ],
   "source": [
    "from RL_utils import LeastSquare\n",
    "\n",
    "Y_train[Y_train == 0] = -1\n",
    "Y_test[Y_test == 0] = -1\n",
    "# print train acc & test acc\n",
    "w, train_acc, test_acc = LeastSquare(X_train.T, Y_train, X_test.T, Y_test, bias=True)\n",
    "print('Train accuracy : {}%'.format(train_acc))\n",
    "print('Test accuracy : {}%'.format(test_acc))"
   ]
  },
  {
   "cell_type": "markdown",
   "metadata": {},
   "source": [
    "## 2-1 실제 데이터 적용\n",
    "\n",
    " - MNIST는 0부터 9까지 사람의 손으로 쓴 손글씨 데이터이며 각각은 0-9로 레이블링 되어있음\n",
    " - 총 0 - 9 클래스 데이터중 {4, 9} 클래스의 손글씨 데이터만 가져와 숫자 이미지 분류문제에 적용해본다."
   ]
  },
  {
   "cell_type": "code",
   "execution_count": 20,
   "metadata": {},
   "outputs": [
    {
     "name": "stdout",
     "output_type": "stream",
     "text": [
      "Shape of data: (28, 28)\n",
      "Number of train data: 11791\n",
      "Number of test data: 1991\n"
     ]
    },
    {
     "data": {
      "image/png": "[encoded data removed]",
      "text/plain": [
       "<Figure size 864x576 with 2 Axes>"
      ]
     },
     "metadata": {},
     "output_type": "display_data"
    }
   ],
   "source": [
    "# 데이터셋 로드\n",
    "X_train_orig = np.load('./data/X_train.npy')\n",
    "X_test_orig = np.load('./data/X_test.npy')\n",
    "Y_train = np.load('./data/Y_train.npy')\n",
    "Y_test = np.load('./data/Y_test.npy')\n",
    "\n",
    "# 데이터셋 기본 정보\n",
    "print('Shape of data: {}'.format(X_train_orig.shape[1:]))\n",
    "print('Number of train data: {}'.format(len(Y_train)))\n",
    "print('Number of test data: {}'.format(len(Y_test)))\n",
    "\n",
    "# 데이터 이미지 플로팅\n",
    "plt.subplot(1, 2, 1)\n",
    "plt.imshow(X_train_orig[Y_train==0][0], cmap='gray_r')\n",
    "plt.title('Digit: 4')\n",
    "plt.xticks([]); plt.yticks([])\n",
    "plt.subplot(1, 2, 2)\n",
    "plt.imshow(X_train_orig[Y_train==1][0], cmap='gray_r')\n",
    "plt.title('Digit: 9')\n",
    "plt.xticks([]); plt.yticks([])\n",
    "plt.show()"
   ]
  },
  {
   "cell_type": "markdown",
   "metadata": {},
   "source": [
    "* (28, 28) 크기를 가진 이미지 데이터이기 때문에 모델에 적용하기 위해서 전처리과정이 필요하다\n",
    "* 총 28 x 28 = 784개의 차원을 가지는 데이터이다"
   ]
  },
  {
   "cell_type": "markdown",
   "metadata": {},
   "source": [
    "현재 학습하려고 하는 모델은 벡터형 데이터를 인풋으로 받기때문에 이미지 데이터 역시 학습을 위해서 벡터형으로 펼쳐줘야한다.\n",
    "\n",
    "shape (n_px, npx) ---> (n_px * n_px)\n",
    "\n",
    "**연습문제**: Training데이터셋과 test데이터셋을 벡터형으로 reshape하시오"
   ]
  },
  {
   "cell_type": "code",
   "execution_count": 21,
   "metadata": {
    "scrolled": true
   },
   "outputs": [
    {
     "name": "stdout",
     "output_type": "stream",
     "text": [
      "X_train_flatten shape: (784, 11791)\n",
      "Y_train shape: (11791,)\n",
      "X_test_flatten shape: (784, 1991)\n",
      "Y_test shape: (1991,)\n"
     ]
    }
   ],
   "source": [
    "# Reshape the training and test examples\n",
    "\n",
    "### START CODE HERE ### (≈ 2 lines of code)\n",
    "X_train_flatten = X_train_orig.reshape(X_train_orig.shape[0], -1).T\n",
    "X_test_flatten = X_test_orig.reshape(X_test_orig.shape[0], -1).T\n",
    "### END CODE HERE ###\n",
    "\n",
    "print('X_train_flatten shape: ' + str(X_train_flatten.shape))\n",
    "print('Y_train shape: ' + str(Y_train.shape))\n",
    "print('X_test_flatten shape: ' + str(X_test_flatten.shape))\n",
    "print('Y_test shape: ' + str(Y_test.shape))"
   ]
  },
  {
   "cell_type": "markdown",
   "metadata": {},
   "source": [
    "**Standardization**"
   ]
  },
  {
   "cell_type": "code",
   "execution_count": 22,
   "metadata": {},
   "outputs": [],
   "source": [
    "X_train = X_train_flatten / 255.\n",
    "X_test = X_test_flatten / 255."
   ]
  },
  {
   "cell_type": "code",
   "execution_count": 23,
   "metadata": {},
   "outputs": [
    {
     "name": "stdout",
     "output_type": "stream",
     "text": [
      "Cost after iteration 0: 0.693147\n",
      "Cost after iteration 100: 0.198818\n",
      "Cost after iteration 200: 0.158211\n",
      "Cost after iteration 300: 0.141155\n",
      "Cost after iteration 400: 0.131306\n",
      "Cost after iteration 500: 0.124725\n",
      "Cost after iteration 600: 0.119939\n",
      "Cost after iteration 700: 0.116258\n",
      "Cost after iteration 800: 0.113313\n",
      "Cost after iteration 900: 0.110885\n",
      "Cost after iteration 1000: 0.108837\n",
      "Cost after iteration 1100: 0.107077\n",
      "Cost after iteration 1200: 0.105542\n",
      "Cost after iteration 1300: 0.104186\n",
      "Cost after iteration 1400: 0.102975\n",
      "Cost after iteration 1500: 0.101885\n",
      "Cost after iteration 1600: 0.100894\n",
      "Cost after iteration 1700: 0.099988\n",
      "Cost after iteration 1800: 0.099155\n",
      "Cost after iteration 1900: 0.098384\n",
      "Cost after iteration 2000: 0.097668\n",
      "Cost after iteration 2100: 0.097000\n",
      "Cost after iteration 2200: 0.096374\n",
      "Cost after iteration 2300: 0.095785\n",
      "Cost after iteration 2400: 0.095230\n",
      "Cost after iteration 2500: 0.094705\n",
      "Cost after iteration 2600: 0.094207\n",
      "Cost after iteration 2700: 0.093733\n",
      "Cost after iteration 2800: 0.093282\n",
      "Cost after iteration 2900: 0.092851\n",
      "Cost after iteration 3000: 0.092439\n",
      "Cost after iteration 3100: 0.092044\n",
      "Cost after iteration 3200: 0.091665\n",
      "Cost after iteration 3300: 0.091301\n",
      "Cost after iteration 3400: 0.090950\n",
      "Cost after iteration 3500: 0.090612\n",
      "Cost after iteration 3600: 0.090286\n",
      "Cost after iteration 3700: 0.089971\n",
      "Cost after iteration 3800: 0.089666\n",
      "Cost after iteration 3900: 0.089370\n",
      "Cost after iteration 4000: 0.089084\n",
      "Cost after iteration 4100: 0.088806\n",
      "Cost after iteration 4200: 0.088536\n",
      "Cost after iteration 4300: 0.088274\n",
      "Cost after iteration 4400: 0.088019\n",
      "Cost after iteration 4500: 0.087771\n",
      "Cost after iteration 4600: 0.087529\n",
      "Cost after iteration 4700: 0.087293\n",
      "Cost after iteration 4800: 0.087063\n",
      "Cost after iteration 4900: 0.086838\n",
      "train accuracy: 97.20125519463998 %\n",
      "test accuracy: 97.08689100954294 %\n"
     ]
    }
   ],
   "source": [
    "# 학습\n",
    "d = Logistic(X_train, Y_train, X_test, Y_test, num_iterations=5000, learning_rate=0.1, print_cost=True)"
   ]
  },
  {
   "cell_type": "code",
   "execution_count": null,
   "metadata": {},
   "outputs": [],
   "source": [
    "# 예측결과 보기\n",
    "np.random.seed(2019)\n",
    "idxs = np.random.choice(len(Y_test), 10, replace=False)\n",
    "label_to_class = {0: '4', 1: '9'}\n",
    "w = d['w']\n",
    "b = d['b']\n",
    "\n",
    "plt.figure(figsize=(16, 8))\n",
    "for i, idx in enumerate(idxs):\n",
    "    plt.subplot(2, 5, i + 1)\n",
    "    pred, _ = forward(w, b, X_test[:, idx].reshape(-1, 1), Y_test)\n",
    "    pred_label = d['Y_prediction_test'][0, idx]\n",
    "    prob = pred if pred_label == 1 else 1 - pred\n",
    "    plt.imshow(X_test_orig[idx], cmap='gray_r')\n",
    "    plt.title('{:.2f}% predict digit {}'.format(prob.item() * 100, label_to_class[pred_label]), fontsize=14)\n",
    "    plt.xticks([]); plt.yticks([])"
   ]
  },
  {
   "cell_type": "markdown",
   "metadata": {},
   "source": [
    "## 2-2 실제 데이터 적용\n",
    "\n",
    "**고양이와 고양이가 아닌 것의 대한 이미지 분류**: 'catnoncat.h5' 데이터셋 사용\n",
    " - 고양이는 label=1, 고양이가 아닌 것은 label=0으로 레이블링\n",
    " - 각각의 이미지는 (픽셀 수, 픽셀 수, 3)의 shape을 가지고 있고 3의 의미는 컬러이미지(RGB 3채널)란 뜻\n",
    " - 각각의 데이터는 정사각의 이미지(height=width)"
   ]
  },
  {
   "cell_type": "code",
   "execution_count": null,
   "metadata": {},
   "outputs": [],
   "source": [
    "# (cat/non-cat) 데이터셋 로드\n",
    "X_train_orig, Y_train, X_test_orig, Y_test, classes = load_dataset()"
   ]
  },
  {
   "cell_type": "markdown",
   "metadata": {},
   "source": [
    "학습 데이터셋에 전처리를 해줄 것이기 때문에 원본 이미지 데이터셋에 \"_orig\"를 붙임 (이미지 플로팅용 이기도 함)\n",
    "X_train_orig, X_test_orig는 모두 이미지를 나타내는 array형태이다. 따라서 plt.imshow메소드로 이미지를 시각화 할 수 잇다.\n",
    " - `index` 값 바꿔가면서 시각화 해보기"
   ]
  },
  {
   "cell_type": "code",
   "execution_count": null,
   "metadata": {},
   "outputs": [],
   "source": [
    "# Examples of a picture\n",
    "plt.figure(figsize=(8, 12))\n",
    "index = 25\n",
    "plt.subplot(2, 2, 1)\n",
    "plt.imshow(X_train_orig[index])\n",
    "plt.title(\"y = \" + str(Y_train[index]) + \",  it's a '\" + classes[Y_train[index]].decode(\"utf-8\") +  \"' picture.\")\n",
    "index = 10\n",
    "plt.subplot(2, 2, 2)\n",
    "plt.imshow(X_train_orig[index])\n",
    "plt.title(\"y = \" + str(Y_train[index]) + \",  it's a '\" + classes[Y_train[index]].decode(\"utf-8\") +  \"' picture.\")\n",
    "plt.show()"
   ]
  },
  {
   "cell_type": "markdown",
   "metadata": {},
   "source": [
    "**연습문제**: 다음의 값을 찾으시오\n",
    " - 학습 데이터의 개수 (n_train)\n",
    " - 테스트 데이터의 개수 (n_test)\n",
    " - 이미지 가로세로 픽셀개수 (n_px) (=height=width)\n",
    " \n",
    " \n",
    "**Recall**: X_train_orig 는 (n_train, n_px, n_px, 3)의 shape을 가지는 numpy-array이다."
   ]
  },
  {
   "cell_type": "code",
   "execution_count": null,
   "metadata": {},
   "outputs": [],
   "source": [
    "### START CODE HERE ### (≈ 3 lines of code)\n",
    "n_train = Y_train.shape[0]\n",
    "n_test = Y_test.shape[0]\n",
    "n_px = X_train_orig.shape[1]\n",
    "### END CODE HERE ###\n",
    "\n",
    "print (\"Number of training examples: n_train = \" + str(n_train))\n",
    "print (\"Number of testing examples: n_test = \" + str(n_test))\n",
    "print (\"Height/Width of each image: n_px = \" + str(n_px))\n",
    "print (\"Each image is of size: (\" + str(n_px) + \", \" + str(n_px) + \", 3)\")\n",
    "print (\"X_train_orig shape: \" + str(X_train_orig.shape))\n",
    "print (\"Y_train shape: \" + str(Y_train.shape))\n",
    "print (\"X_test_orig shape: \" + str(X_test_orig.shape))\n",
    "print (\"Y_test shape: \" + str(Y_test.shape))"
   ]
  },
  {
   "cell_type": "markdown",
   "metadata": {},
   "source": [
    "현재 학습하려고 하는 모델은 벡터형 데이터를 인풋으로 받기때문에 이미지 데이터 역시 학습을 위해서 벡터형으로 펼쳐줘야한다.\n",
    "\n",
    "shape (n_px, npx, 3) ---> (n_px * n_px * 3, 1)\n",
    "\n",
    "**연습문제**: Training데이터셋과 test데이터셋을 벡터형으로 reshape하시오"
   ]
  },
  {
   "cell_type": "code",
   "execution_count": null,
   "metadata": {},
   "outputs": [],
   "source": [
    "# Reshape the training and test examples\n",
    "\n",
    "### START CODE HERE ### (≈ 2 lines of code)\n",
    "X_train_flatten = X_train_orig.reshape(X_train_orig.shape[0], -1).T\n",
    "X_test_flatten = X_test_orig.reshape(X_test_orig.shape[0], -1).T\n",
    "### END CODE HERE ###\n",
    "\n",
    "print('X_train_flatten shape: ' + str(X_train_flatten.shape))\n",
    "print('Y_train shape: ' + str(Y_train.shape))\n",
    "print('X_test_flatten shape: ' + str(X_test_flatten.shape))\n",
    "print('Y_test shape: ' + str(Y_test.shape))\n",
    "print('sanity check after reshaping: ' + str(X_train_flatten[0:5, 0]))"
   ]
  },
  {
   "cell_type": "markdown",
   "metadata": {},
   "source": [
    "**Standardization**"
   ]
  },
  {
   "cell_type": "code",
   "execution_count": null,
   "metadata": {},
   "outputs": [],
   "source": [
    "X_train = X_train_flatten / 255.\n",
    "X_test = X_test_flatten / 255."
   ]
  },
  {
   "cell_type": "code",
   "execution_count": null,
   "metadata": {
    "scrolled": false
   },
   "outputs": [],
   "source": [
    "d = Logistic(X_train, Y_train, X_test, Y_test, num_iterations = 2000, learning_rate = 0.005, print_cost = True)"
   ]
  },
  {
   "cell_type": "markdown",
   "metadata": {},
   "source": [
    "**Expected Output**: \n",
    "\n",
    "<table style=\"width:40%\"> \n",
    "    <tr>\n",
    "        <td> Train Accuracy : </td> \n",
    "        <td> 99.04306220095694 % </td>\n",
    "    </tr>\n",
    "    <tr>\n",
    "        <td>Test Accuracy : </td> \n",
    "        <td> 70.0 % </td>\n",
    "    </tr>\n",
    "</table> "
   ]
  },
  {
   "cell_type": "markdown",
   "metadata": {},
   "source": [
    "위 결과로 알수 있듯이 training 데이터에 대한 accuracy는 **100%**에 가까운 결과가 나오는 반면, test 데이터에 대한 결과는 **70%**정도로 매우 큰 차이를 보인다. 로지스틱 회귀 모델 자체가 Linear Classifier이기 때문에 높은 test accuracy를 내는 데에 한계가 있다."
   ]
  },
  {
   "cell_type": "code",
   "execution_count": null,
   "metadata": {},
   "outputs": [],
   "source": [
    "# 예측결과 보기\n",
    "np.random.seed(2019)\n",
    "idxs = np.random.choice(len(Y_test), 10, replace=False)\n",
    "label_to_class = {0: 'cat', 1: 'noncat'}\n",
    "w = d['w']\n",
    "b = d['b']\n",
    "\n",
    "plt.figure(figsize=(16, 8))\n",
    "for i, idx in enumerate(idxs):\n",
    "    plt.subplot(2, 5, i + 1)\n",
    "    pred, _ = forward(w, b, X_test[:, idx].reshape(-1, 1), Y_test)\n",
    "    pred_label = d['Y_prediction_test'][0, idx]\n",
    "    prob = pred if pred_label == 1 else 1 - pred\n",
    "    plt.imshow(X_test_orig[idx], cmap='gray_r')\n",
    "    plt.title('{:.2f}% predict {}'.format(prob.item() * 100, label_to_class[pred_label]), fontsize=14)\n",
    "    plt.xticks([]); plt.yticks([])"
   ]
  },
  {
   "cell_type": "markdown",
   "metadata": {},
   "source": [
    "#### iteration에 따른 loss 값 플롯"
   ]
  },
  {
   "cell_type": "code",
   "execution_count": null,
   "metadata": {},
   "outputs": [],
   "source": [
    "# Plot learning curve (with costs)\n",
    "costs = np.squeeze(d['costs'])\n",
    "plt.plot(costs)\n",
    "plt.ylabel('cost')\n",
    "plt.xlabel('iterations (per hundreds)')\n",
    "plt.title(\"Learning rate =\" + str(d[\"learning_rate\"]))\n",
    "plt.show()"
   ]
  },
  {
   "cell_type": "code",
   "execution_count": null,
   "metadata": {},
   "outputs": [],
   "source": []
  }
 ],
 "metadata": {
  "kernelspec": {
   "display_name": "Python 3",
   "language": "python",
   "name": "python3"
  },
  "language_info": {
   "codemirror_mode": {
    "name": "ipython",
    "version": 3
   },
   "file_extension": ".py",
   "mimetype": "text/x-python",
   "name": "python",
   "nbconvert_exporter": "python",
   "pygments_lexer": "ipython3",
   "version": "3.6.5"
  }
 },
 "nbformat": 4,
 "nbformat_minor": 2
}
