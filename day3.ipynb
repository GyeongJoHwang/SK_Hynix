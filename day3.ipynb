{
 "cells": [
  {
   "cell_type": "markdown",
   "metadata": {},
   "source": [
    "## Robustness and fairness"
   ]
  },
  {
   "cell_type": "markdown",
   "metadata": {},
   "source": [
    "Prof. Changho Suh, TA Jaewoong Cho, Gyeongjo Hwang"
   ]
  },
  {
   "cell_type": "markdown",
   "metadata": {},
   "source": [
    "1.     A setting where one can see a performance degradation due to poisoned data when applying non-robust algorithms (like logistic regression);\n",
    "\n",
    "2.     Another setting where one can see a fairness issue;\n",
    "\n",
    "3.     Learning-to-reweight algorithm for robustness;\n",
    "\n",
    "4.     Jafar’s algorithm for fairness.\n",
    "\n",
    "\n"
   ]
  },
  {
   "cell_type": "markdown",
   "metadata": {},
   "source": [
    "## 1. Data poisoning and robust machine learning"
   ]
  },
  {
   "cell_type": "markdown",
   "metadata": {},
   "source": [
    "실습목표\n",
    "\n",
    "-- Clean dataset과 Poisoned dataset을 인위적으로 생성한다.\n",
    "\n",
    "-- 각각의 dataset에 logistic regression을 적용한 뒤 성능을 측정하고, poisoning 정도에 따라 성능 저하를 확인한다.\n",
    "\n",
    "-- Poisoning data에 robust한 Learn to Reweight 알고리즘을 구현한다.\n",
    "\n",
    "-- Poisoned dataset에 Learn to Reweight 기반 logistic regression을 적용한 뒤 성능을 측정하고, poisoning 정도에 따라 성능 저하를 확인한다."
   ]
  },
  {
   "cell_type": "markdown",
   "metadata": {},
   "source": [
    "### 1-A. Clean dataset과 Poisoned dataset을 인위적으로 생성\n",
    "\n",
    "본 실습에서는 지난 Convex Optimziation for Machine Learning 실습시간에 구현한 모듈을 필요로 한다. 이를 불러오시오."
   ]
  },
  {
   "cell_type": "code",
   "execution_count": 3,
   "metadata": {},
   "outputs": [
    {
     "ename": "ImportError",
     "evalue": "No module named blah",
     "output_type": "error",
     "traceback": [
      "\u001b[0;31m---------------------------------------------------------------------------\u001b[0m",
      "\u001b[0;31mImportError\u001b[0m                               Traceback (most recent call last)",
      "\u001b[0;32m<ipython-input-3-1589cc285ac4>\u001b[0m in \u001b[0;36m<module>\u001b[0;34m()\u001b[0m\n\u001b[0;32m----> 1\u001b[0;31m \u001b[0;32mfrom\u001b[0m \u001b[0mblah\u001b[0m \u001b[0;32mimport\u001b[0m \u001b[0mlogistic_regression\u001b[0m\u001b[0;34m,\u001b[0m \u001b[0mgenerate_normal\u001b[0m\u001b[0;34m,\u001b[0m \u001b[0mmeasure_acc\u001b[0m\u001b[0;34m,\u001b[0m \u001b[0metc\u001b[0m\u001b[0;34m\u001b[0m\u001b[0m\n\u001b[0m",
      "\u001b[0;31mImportError\u001b[0m: No module named blah"
     ]
    }
   ],
   "source": [
    "from blah import logistic_regression, generate_normal, measure_acc, etc"
   ]
  },
  {
   "cell_type": "markdown",
   "metadata": {},
   "source": [
    "Clean dataset을 생성하시오"
   ]
  },
  {
   "cell_type": "code",
   "execution_count": 4,
   "metadata": {},
   "outputs": [
    {
     "ename": "NameError",
     "evalue": "name 'generate_normal' is not defined",
     "output_type": "error",
     "traceback": [
      "\u001b[0;31m---------------------------------------------------------------------------\u001b[0m",
      "\u001b[0;31mNameError\u001b[0m                                 Traceback (most recent call last)",
      "\u001b[0;32m<ipython-input-4-40df907f97b2>\u001b[0m in \u001b[0;36m<module>\u001b[0;34m()\u001b[0m\n\u001b[0;32m----> 1\u001b[0;31m \u001b[0;34m(\u001b[0m\u001b[0mX_clean_train\u001b[0m\u001b[0;34m,\u001b[0m \u001b[0mY_clean_train\u001b[0m\u001b[0;34m)\u001b[0m\u001b[0;34m,\u001b[0m \u001b[0;34m(\u001b[0m\u001b[0mX_clean_test\u001b[0m\u001b[0;34m,\u001b[0m \u001b[0mY_clean_test\u001b[0m\u001b[0;34m)\u001b[0m \u001b[0;34m=\u001b[0m \u001b[0mgenerate_normal\u001b[0m\u001b[0;34m(\u001b[0m\u001b[0;36m800\u001b[0m\u001b[0;34m,\u001b[0m \u001b[0mseed\u001b[0m\u001b[0;34m=\u001b[0m\u001b[0;36m2019\u001b[0m\u001b[0;34m)\u001b[0m\u001b[0;34m\u001b[0m\u001b[0m\n\u001b[0m",
      "\u001b[0;31mNameError\u001b[0m: name 'generate_normal' is not defined"
     ]
    }
   ],
   "source": [
    "(X_clean_train, Y_clean_train), (X_clean_test, Y_clean_test) = generate_normal(800, seed=2019)"
   ]
  },
  {
   "cell_type": "markdown",
   "metadata": {},
   "source": [
    "dataset과 숫자가 주어졌을 때 해당 갯수만큼 label을 flip하는 함수를 구현하시오."
   ]
  },
  {
   "cell_type": "code",
   "execution_count": 5,
   "metadata": {
    "collapsed": true
   },
   "outputs": [],
   "source": [
    "def simple_poison(X_clean_train, Y_clean_train, n_of_poison):\n",
    "    '''\n",
    "    Poison \"n_of_poison\" number of data points by flipping their labels \n",
    "    \n",
    "    Returns:\n",
    "    X_poison_train, Y_poison_train\n",
    "    '''\n",
    "    \n",
    "    n_of_poison = min(X_clean_train.shape[0], n_of_poison) # flip everything if n_of_poison > # of data pts\n",
    "    \n",
    "    ### START CODE HERE ### (≈ 4 line of code)\n",
    "    X_poison_train, Y_poison_train = np.copy(X_clean_train), np.copy(Y_clean_train)\n",
    "    Y_poison_train[:n_of_poison] = 1 - Y_poison_train[:n_of_poison]\n",
    "    ### END CODE HERE ###\n",
    "    \n",
    "    return X_poison_train, Y_poison_train"
   ]
  },
  {
   "cell_type": "markdown",
   "metadata": {},
   "source": [
    "### 1-B. 불러온 logistic regression을 적용하여 성능을 측정"
   ]
  },
  {
   "cell_type": "markdown",
   "metadata": {},
   "source": [
    "Poison rate을 아래와 같이 변화시키며 측정한다."
   ]
  },
  {
   "cell_type": "code",
   "execution_count": 7,
   "metadata": {},
   "outputs": [
    {
     "ename": "NameError",
     "evalue": "name 'np' is not defined",
     "output_type": "error",
     "traceback": [
      "\u001b[0;31m---------------------------------------------------------------------------\u001b[0m",
      "\u001b[0;31mNameError\u001b[0m                                 Traceback (most recent call last)",
      "\u001b[0;32m<ipython-input-7-8d52d6669064>\u001b[0m in \u001b[0;36m<module>\u001b[0;34m()\u001b[0m\n\u001b[1;32m      1\u001b[0m \u001b[0macc_poison\u001b[0m \u001b[0;34m=\u001b[0m \u001b[0;34m[\u001b[0m\u001b[0;34m]\u001b[0m\u001b[0;34m\u001b[0m\u001b[0m\n\u001b[0;32m----> 2\u001b[0;31m \u001b[0mpoison_rate\u001b[0m \u001b[0;34m=\u001b[0m \u001b[0mnp\u001b[0m\u001b[0;34m.\u001b[0m\u001b[0mlinspace\u001b[0m\u001b[0;34m(\u001b[0m\u001b[0;36m0\u001b[0m\u001b[0;34m,\u001b[0m \u001b[0;36m1\u001b[0m\u001b[0;34m,\u001b[0m \u001b[0;36m21\u001b[0m\u001b[0;34m)\u001b[0m\u001b[0;34m\u001b[0m\u001b[0m\n\u001b[0m\u001b[1;32m      3\u001b[0m \u001b[0;31m### START CODE HERE ### (≈ 4 line of code)\u001b[0m\u001b[0;34m\u001b[0m\u001b[0;34m\u001b[0m\u001b[0m\n\u001b[1;32m      4\u001b[0m \u001b[0;32mfor\u001b[0m \u001b[0meach_poison_rate\u001b[0m \u001b[0;32min\u001b[0m \u001b[0mpoison_rate\u001b[0m\u001b[0;34m:\u001b[0m\u001b[0;34m\u001b[0m\u001b[0m\n\u001b[1;32m      5\u001b[0m     \u001b[0meach_accuracy\u001b[0m \u001b[0;34m=\u001b[0m \u001b[0mLogistic\u001b[0m\u001b[0;34m(\u001b[0m\u001b[0mX_clean_train\u001b[0m\u001b[0;34m,\u001b[0m \u001b[0mY_clean_test\u001b[0m\u001b[0;34m,\u001b[0m \u001b[0mX_clean_test\u001b[0m\u001b[0;34m,\u001b[0m \u001b[0mY_clean_test\u001b[0m\u001b[0;34m)\u001b[0m\u001b[0;34m\u001b[0m\u001b[0m\n",
      "\u001b[0;31mNameError\u001b[0m: name 'np' is not defined"
     ]
    }
   ],
   "source": [
    "acc_poison = []\n",
    "poison_rate = np.linspace(0, 1, 21)\n",
    "### START CODE HERE ### (≈ 4 line of code)\n",
    "for each_poison_rate in poison_rate:\n",
    "    each_accuracy = Logistic(X_clean_train, Y_clean_test, X_clean_test, Y_clean_test)\n",
    "    acc_poison.append(each_poison_rate, each_accuracy)\n",
    "### END CODE HERE ### (≈ 4 line of code)"
   ]
  },
  {
   "cell_type": "markdown",
   "metadata": {},
   "source": [
    "그린다."
   ]
  },
  {
   "cell_type": "code",
   "execution_count": 8,
   "metadata": {},
   "outputs": [
    {
     "ename": "NameError",
     "evalue": "name 'plt' is not defined",
     "output_type": "error",
     "traceback": [
      "\u001b[0;31m---------------------------------------------------------------------------\u001b[0m",
      "\u001b[0;31mNameError\u001b[0m                                 Traceback (most recent call last)",
      "\u001b[0;32m<ipython-input-8-e8c129a94191>\u001b[0m in \u001b[0;36m<module>\u001b[0;34m()\u001b[0m\n\u001b[0;32m----> 1\u001b[0;31m \u001b[0mplt\u001b[0m\u001b[0;34m.\u001b[0m\u001b[0mscatter\u001b[0m\u001b[0;34m(\u001b[0m\u001b[0mpoison_rate\u001b[0m\u001b[0;34m)\u001b[0m\u001b[0;34m\u001b[0m\u001b[0m\n\u001b[0m\u001b[1;32m      2\u001b[0m \u001b[0mplt\u001b[0m\u001b[0;34m.\u001b[0m\u001b[0mxlabel\u001b[0m\u001b[0;34m(\u001b[0m\u001b[0;34m'poison rate'\u001b[0m\u001b[0;34m)\u001b[0m\u001b[0;34m\u001b[0m\u001b[0m\n\u001b[1;32m      3\u001b[0m \u001b[0mplt\u001b[0m\u001b[0;34m.\u001b[0m\u001b[0mylabel\u001b[0m\u001b[0;34m(\u001b[0m\u001b[0;34m'acc'\u001b[0m\u001b[0;34m)\u001b[0m\u001b[0;34m\u001b[0m\u001b[0m\n",
      "\u001b[0;31mNameError\u001b[0m: name 'plt' is not defined"
     ]
    }
   ],
   "source": [
    "plt.scatter(poison_rate)\n",
    "plt.xlabel('poison rate')\n",
    "plt.ylabel('acc')"
   ]
  },
  {
   "cell_type": "markdown",
   "metadata": {},
   "source": [
    "### 1-C. Learn to reweight 알고리즘을 구현한다"
   ]
  },
  {
   "cell_type": "markdown",
   "metadata": {},
   "source": [
    "Learn to reweight알고리즘은 ... \n",
    "\n",
    "대충 수업에서 배운거 remind ...\n",
    "\n",
    "저자 코드 최대한 활용하여 구현 따라하기\n",
    "\n",
    "-clean validation셋이 필요하니까 위에서 데이터 생성할 때 train, val, test를 따로 받는 식으로 해도 괜찮을듯\n",
    "\n",
    "-1) clean validation셋으로 loss define해서 back prop하는거 구현\n",
    "\n",
    "-2) 계산된 weight을 기반으로 main model GD update하는거 구현\n",
    "\n",
    "-3) 합치기"
   ]
  },
  {
   "cell_type": "markdown",
   "metadata": {},
   "source": [
    "### 1-D. (1-B 반복)"
   ]
  },
  {
   "cell_type": "markdown",
   "metadata": {},
   "source": [
    "## 2. Fair machine learning"
   ]
  },
  {
   "cell_type": "markdown",
   "metadata": {},
   "source": [
    "실습목표\n",
    "\n",
    "-- Fairness metric 측정하는 코드 구현\n",
    "\n",
    "---diparate impact? disparate mistreatment? Jafar 논문 2개에 걸쳐 제안된 metric들\n",
    "\n",
    "-- Fair dataset과 Unfair dataset을 인위적으로 생성한다.\n",
    "\n",
    "-- 각각의 dataset에 logistic regression을 적용한 뒤 성능 및 Fairness를 측정\n",
    "\n",
    "-- Jafar's fair learning 알고리즘을 구현한다. https://arxiv.org/pdf/1507.05259.pdf\n",
    "\n",
    "--- Lambda가 주어지면 Loss + Lambda * Fairness-regularization-term을 GD로 푸는 알고리즘 구현\n",
    "\n",
    "-- Unfair dataset에 Jafar 알고리즘 기반 logistic regression을 적용한 뒤 성능을 측정, lambda값에 따라 나온 (fairness & acc) tradeoff를 그린다"
   ]
  }
 ],
 "metadata": {
  "kernelspec": {
   "display_name": "Python 2",
   "language": "python",
   "name": "python2"
  },
  "language_info": {
   "codemirror_mode": {
    "name": "ipython",
    "version": 2
   },
   "file_extension": ".py",
   "mimetype": "text/x-python",
   "name": "python",
   "nbconvert_exporter": "python",
   "pygments_lexer": "ipython2",
   "version": "2.7.15"
  }
 },
 "nbformat": 4,
 "nbformat_minor": 1
}
